{
 "cells": [
  {
   "cell_type": "markdown",
   "id": "d53b863a",
   "metadata": {},
   "source": [
    "# For Loop"
   ]
  },
  {
   "cell_type": "code",
   "execution_count": 1,
   "id": "74875f10",
   "metadata": {},
   "outputs": [
    {
     "name": "stdout",
     "output_type": "stream",
     "text": [
      "0\n",
      "1\n",
      "2\n",
      "3\n",
      "4\n",
      "5\n",
      "6\n",
      "7\n",
      "8\n",
      "9\n"
     ]
    }
   ],
   "source": [
    "for i in range(10):\n",
    "    print(i)"
   ]
  },
  {
   "cell_type": "code",
   "execution_count": 2,
   "id": "c045b4e4",
   "metadata": {},
   "outputs": [
    {
     "name": "stdout",
     "output_type": "stream",
     "text": [
      "1\n",
      "2\n",
      "3\n",
      "4\n",
      "5\n"
     ]
    }
   ],
   "source": [
    "for i in range(1,6):\n",
    "    print(i)"
   ]
  },
  {
   "cell_type": "code",
   "execution_count": 8,
   "id": "aaa3d473",
   "metadata": {},
   "outputs": [
    {
     "name": "stdout",
     "output_type": "stream",
     "text": [
      "0 1 2 3 4 5 6 7 8 9 "
     ]
    }
   ],
   "source": [
    "for i in range(10):\n",
    "    print(i, end=' ')"
   ]
  },
  {
   "cell_type": "code",
   "execution_count": 10,
   "id": "57ef1f3f",
   "metadata": {},
   "outputs": [
    {
     "name": "stdout",
     "output_type": "stream",
     "text": [
      "10 9 8 7 6 5 4 3 2 1 "
     ]
    }
   ],
   "source": [
    "# For Reverse counting\n",
    "for i in range(10,0,-1):\n",
    "    print(i, end=' ')"
   ]
  },
  {
   "cell_type": "code",
   "execution_count": 117,
   "id": "0811b0b9",
   "metadata": {},
   "outputs": [
    {
     "name": "stdout",
     "output_type": "stream",
     "text": [
      "1 3 5 7 9 \n",
      "\n",
      "0 1 2 3 4 5 6 7 8 9 "
     ]
    }
   ],
   "source": [
    "for i in range(1,10,2):\n",
    "    print(i, end=' ')\n",
    "print(\"\\n\")    \n",
    "for i in range(10):\n",
    "    print(i, end=' ')\n",
    "    #print(\"   \")"
   ]
  },
  {
   "cell_type": "code",
   "execution_count": 48,
   "id": "f2e3d66c",
   "metadata": {},
   "outputs": [
    {
     "name": "stdout",
     "output_type": "stream",
     "text": [
      "1\n",
      "2\n",
      "3\n",
      "4\n",
      "5\n",
      "6\n"
     ]
    }
   ],
   "source": [
    "for i in range(1,100):\n",
    "    if i%7 ==0:\n",
    "        break\n",
    "    print(i)"
   ]
  },
  {
   "cell_type": "code",
   "execution_count": 116,
   "id": "7c660bef",
   "metadata": {},
   "outputs": [
    {
     "name": "stdout",
     "output_type": "stream",
     "text": [
      "This is list of Even No = [2, 4, 6, 8, 10, 12, 14, 16, 18, 20, 22, 24, 26, 28, 30, 32, 34, 36, 38, 40, 42, 44, 46, 48]\n",
      "This is list of Odd No = [1, 3, 5, 7, 9, 11, 13, 15, 17, 19, 21, 23, 25, 27, 29, 31, 33, 35, 37, 39, 41, 43, 45, 47, 49]\n"
     ]
    }
   ],
   "source": [
    "even =[]\n",
    "odd =[]\n",
    "for i in range(1,50):\n",
    "    if i%2==0:\n",
    "        even.append(i)\n",
    "    #elif i%5 ==0:\n",
    "     #       break\n",
    "    elif i%2==1:\n",
    "        odd.append(i)\n",
    "    #elif i%3 ==0:\n",
    "     #       break    \n",
    "print(\"This is list of Even No =\",even)\n",
    "print(\"This is list of Odd No =\",odd)    "
   ]
  },
  {
   "cell_type": "code",
   "execution_count": 113,
   "id": "27d20a00",
   "metadata": {},
   "outputs": [
    {
     "name": "stdout",
     "output_type": "stream",
     "text": [
      "This is list of Even No = [2, 4]\n",
      "This is list of Odd No = [1, 3]\n"
     ]
    }
   ],
   "source": [
    "even =[]\n",
    "odd =[]\n",
    "for i in range(1,100):\n",
    "    if i%2==0:\n",
    "        even.append(i)\n",
    "    elif i%5 ==0:\n",
    "            break\n",
    "    elif i%2 >0:\n",
    "        odd.append(i)\n",
    "    elif i%3 ==0:\n",
    "            break    \n",
    "print(\"This is list of Even No =\",even)\n",
    "print(\"This is list of Odd No =\",odd)    "
   ]
  },
  {
   "cell_type": "code",
   "execution_count": 125,
   "id": "30987299",
   "metadata": {},
   "outputs": [
    {
     "name": "stdout",
     "output_type": "stream",
     "text": [
      "[0, 2, 2, 4, 4, 6, 6, 8, 8, 10, 12, 12, 14, 14, 16, 16, 18, 18, 20, 22, 22, 24, 24, 26, 26, 28, 28, 30, 32, 32, 34, 34, 36, 36, 38, 38, 40, 42, 42, 44, 44, 46, 46, 48, 48, 50, 52, 52, 54, 54, 56, 56, 58, 58, 60, 62, 62, 64, 64, 66, 66, 68, 68, 70, 72, 72, 74, 74, 76, 76, 78, 78, 80, 82, 82, 84, 84, 86, 86, 88, 88, 90, 92, 92, 94, 94, 96, 96, 98, 98]\n",
      "[1, 3, 7, 9, 11, 13, 17, 19, 21, 23, 27, 29, 31, 33, 37, 39, 41, 43, 47, 49, 51, 53, 57, 59, 61, 63, 67, 69, 71, 73, 77, 79, 81, 83, 87, 89, 91, 93, 97, 99]\n"
     ]
    }
   ],
   "source": [
    "evens = []\n",
    "odds = []\n",
    "for a in range (100):\n",
    "    if (a%2==0):\n",
    "        evens.append(a)\n",
    "        if (a%5!=0):\n",
    "            evens.append(a)\n",
    "    elif a%5!=0:\n",
    "        odds.append(a)\n",
    "print(evens)\n",
    "print(odds)\n",
    "        "
   ]
  },
  {
   "cell_type": "code",
   "execution_count": 133,
   "id": "87a5df73",
   "metadata": {},
   "outputs": [
    {
     "name": "stdout",
     "output_type": "stream",
     "text": [
      "1\n",
      "2\n",
      "3\n",
      "5\n",
      "6\n",
      "7\n",
      "8\n"
     ]
    }
   ],
   "source": [
    "for a in range (1,10):\n",
    "    if a==4:\n",
    "        continue\n",
    "    elif a==9:\n",
    "        break\n",
    "    print(a) "
   ]
  },
  {
   "cell_type": "code",
   "execution_count": 135,
   "id": "2cf807c1",
   "metadata": {},
   "outputs": [
    {
     "name": "stdout",
     "output_type": "stream",
     "text": [
      "khushamdeed janaab. rashid\n",
      "khushamdeed janaab. asfand\n",
      "khushamdeed janaab. ibad\n",
      "khushamdeed janaab. shahid\n"
     ]
    }
   ],
   "source": [
    "list007 = ['rashid', 'asfand','ibad','shahid']\n",
    "for name in list007:\n",
    "    print(f\"khushamdeed janaab. {name}\" )"
   ]
  },
  {
   "cell_type": "code",
   "execution_count": 149,
   "id": "1bfc3b6b",
   "metadata": {},
   "outputs": [
    {
     "name": "stdout",
     "output_type": "stream",
     "text": [
      "enter name:bil\n",
      "b\n",
      "i\n",
      "l\n"
     ]
    }
   ],
   "source": [
    "\n",
    "names = (input(\"enter name:\" ))\n",
    "for a in (names) :\n",
    "  \n",
    "    \n",
    "    \n"
   ]
  },
  {
   "cell_type": "code",
   "execution_count": 153,
   "id": "466403cd",
   "metadata": {},
   "outputs": [
    {
     "name": "stdout",
     "output_type": "stream",
     "text": [
      "enter the name of guest:bil\n",
      "enter the name of guest:shah\n",
      "enter the name of guest:jabb\n",
      "enter the name of guest:ramm\n",
      "enter the name of guest:bagg\n",
      "enter the name of guest:ott\n",
      "enter the name of guest:lilly\n",
      "enter the name of guest:shilly\n",
      "enter the name of guest:philly\n",
      "enter the name of guest:billy\n",
      "['bil', 'shah', 'jabb', 'ramm', 'bagg', 'ott', 'lilly', 'shilly', 'philly', 'billy']\n"
     ]
    }
   ],
   "source": [
    "guest_list=[]\n",
    "for a in range(10):\n",
    "    guest_name = input(\"enter the name of guest:\")\n",
    "    if guest_name==\"furqan\" :\n",
    "         break\n",
    "    else :\n",
    "        guest_list.append(guest_name)\n",
    "print(guest_list)\n"
   ]
  },
  {
   "cell_type": "code",
   "execution_count": 156,
   "id": "e6e82cc9",
   "metadata": {},
   "outputs": [
    {
     "name": "stdout",
     "output_type": "stream",
     "text": [
      "enter the name of guest:shahid\n",
      "enter the name of guest:asalm\n",
      "enter the name of guest:aslam\n",
      "enter the name of guest:furqan\n",
      "['shahid', 'asalm', 'aslam']\n"
     ]
    }
   ],
   "source": [
    "guest_list=[]\n",
    "for a in range(10):\n",
    "    guest_name = input(\"enter the name of guest:\")\n",
    "    if guest_name==\"furqan\" or 'aslam' in guest_list:\n",
    "         break\n",
    "    else :\n",
    "        guest_list.append(guest_name)\n",
    "print(guest_list)\n"
   ]
  },
  {
   "cell_type": "code",
   "execution_count": 157,
   "id": "f2e36601",
   "metadata": {},
   "outputs": [
    {
     "data": {
      "text/plain": [
       "False"
      ]
     },
     "execution_count": 157,
     "metadata": {},
     "output_type": "execute_result"
    }
   ],
   "source": [
    "'rameek' in guest_list"
   ]
  },
  {
   "cell_type": "code",
   "execution_count": 168,
   "id": "bccdd3d0",
   "metadata": {},
   "outputs": [
    {
     "name": "stdout",
     "output_type": "stream",
     "text": [
      "enter the name of guest:bilal\n",
      "enter the name of guest:shahid\n",
      "enter the name of guest:Asim Riaz\n"
     ]
    },
    {
     "ename": "TypeError",
     "evalue": "list.remove() takes exactly one argument (0 given)",
     "output_type": "error",
     "traceback": [
      "\u001b[1;31m---------------------------------------------------------------------------\u001b[0m",
      "\u001b[1;31mTypeError\u001b[0m                                 Traceback (most recent call last)",
      "\u001b[1;32mC:\\Users\\LAB02R~1\\AppData\\Local\\Temp/ipykernel_10688/1883240087.py\u001b[0m in \u001b[0;36m<module>\u001b[1;34m\u001b[0m\n\u001b[0;32m      5\u001b[0m          \u001b[1;32mbreak\u001b[0m\u001b[1;33m\u001b[0m\u001b[1;33m\u001b[0m\u001b[0m\n\u001b[0;32m      6\u001b[0m     \u001b[1;32melif\u001b[0m \u001b[0mguest_name\u001b[0m\u001b[1;33m==\u001b[0m\u001b[1;34m\"Asim Riaz\"\u001b[0m\u001b[1;33m:\u001b[0m\u001b[1;33m\u001b[0m\u001b[1;33m\u001b[0m\u001b[0m\n\u001b[1;32m----> 7\u001b[1;33m         \u001b[0mguest_list\u001b[0m\u001b[1;33m.\u001b[0m\u001b[0mremove\u001b[0m\u001b[1;33m(\u001b[0m\u001b[1;33m)\u001b[0m\u001b[1;33m\u001b[0m\u001b[1;33m\u001b[0m\u001b[0m\n\u001b[0m\u001b[0;32m      8\u001b[0m     \u001b[1;32melse\u001b[0m \u001b[1;33m:\u001b[0m\u001b[1;33m\u001b[0m\u001b[1;33m\u001b[0m\u001b[0m\n\u001b[0;32m      9\u001b[0m         \u001b[0mguest_list\u001b[0m\u001b[1;33m.\u001b[0m\u001b[0mappend\u001b[0m\u001b[1;33m(\u001b[0m\u001b[0mguest_name\u001b[0m\u001b[1;33m)\u001b[0m\u001b[1;33m\u001b[0m\u001b[1;33m\u001b[0m\u001b[0m\n",
      "\u001b[1;31mTypeError\u001b[0m: list.remove() takes exactly one argument (0 given)"
     ]
    }
   ],
   "source": [
    "guest_list=[]\n",
    "for a in range(3):\n",
    "    guest_name = input(\"enter the name of guest:\")\n",
    "    if guest_name==\"furqan\" or 'aslam' in guest_list:\n",
    "         break\n",
    "    elif guest_name==\"Asim Riaz\":\n",
    "        guest_list.remove()\n",
    "    else :\n",
    "        guest_list.append(guest_name)\n",
    "print(guest_list)"
   ]
  },
  {
   "cell_type": "code",
   "execution_count": null,
   "id": "fde0f36a",
   "metadata": {},
   "outputs": [],
   "source": []
  }
 ],
 "metadata": {
  "kernelspec": {
   "display_name": "Python 3 (ipykernel)",
   "language": "python",
   "name": "python3"
  },
  "language_info": {
   "codemirror_mode": {
    "name": "ipython",
    "version": 3
   },
   "file_extension": ".py",
   "mimetype": "text/x-python",
   "name": "python",
   "nbconvert_exporter": "python",
   "pygments_lexer": "ipython3",
   "version": "3.9.7"
  }
 },
 "nbformat": 4,
 "nbformat_minor": 5
}
