{
 "cells": [
  {
   "cell_type": "markdown",
   "id": "3c1bdeb5",
   "metadata": {},
   "source": [
    "# If else , If statment"
   ]
  },
  {
   "cell_type": "code",
   "execution_count": 48,
   "id": "41fe785f",
   "metadata": {},
   "outputs": [
    {
     "name": "stdout",
     "output_type": "stream",
     "text": [
      "student name is   jk\n",
      "Enter marks of CM  \n",
      "45\n",
      "Enter marks Electronics \n",
      "23\n",
      "Enter marks Automata \n",
      "11\n",
      "Enter marks Information System Analysis \n",
      "12\n",
      "Enter marks in Compiler Construction \n",
      "13\n",
      "your grade is Fail\n",
      "\n",
      "    \n",
      "                            Result Card\n",
      "    \n",
      "                            || Name : (\"student name is\") ||\n",
      "                            \n",
      "                            || Grade : (\"grade\") ||\n",
      "\n",
      "jk\n"
     ]
    }
   ],
   "source": [
    "name = input(\"student name is  \"   \" \")\n",
    "\n",
    "subj1 = float(input(\"Enter marks of CM  \\n\"))\n",
    "subj2 = float(input(\"Enter marks Electronics \\n\"))\n",
    "subj3 = float(input(\"Enter marks Automata \\n\"))\n",
    "subj4 = float(input(\"Enter marks Information System Analysis \\n\"))\n",
    "subj5 = float(input(\"Enter marks in Compiler Construction \\n\"))\n",
    "total_marks = 500\n",
    "\n",
    "grade = None\n",
    "\n",
    "obt_marks = subj1+subj2+subj3+subj4+subj5\n",
    "percentage = obt_marks / total_marks * 100\n",
    " \n",
    "\n",
    "\n",
    "if percentage >=90 or percentage 80>=:\n",
    "    print(\"your grade is A1\")\n",
    "elif percentage >=70:\n",
    "    print(\"your grade is A\")\n",
    "elif percentage >=60:\n",
    "    print(\"your grade is B\")\n",
    "elif percentage >=50:\n",
    "    print(\"your grade is C\")\n",
    "elif percentage >=40:\n",
    "    print(\"your grade is D\")    \n",
    "else:\n",
    "    print(\"your grade is Fail\")\n",
    "    \n",
    "result_card=f\"\"\"\n",
    "    \n",
    "                            Result Card\n",
    "    \n",
    "                            || Name : (\"student name is\") ||\n",
    "                            \n",
    "                            || Grade : (\"grade\") ||\n",
    "\"\"\"  \n",
    "print(result_card)\n",
    "print(name)"
   ]
  },
  {
   "cell_type": "code",
   "execution_count": null,
   "id": "cf583696",
   "metadata": {},
   "outputs": [],
   "source": []
  },
  {
   "cell_type": "code",
   "execution_count": null,
   "id": "bc9a209d",
   "metadata": {},
   "outputs": [],
   "source": []
  }
 ],
 "metadata": {
  "kernelspec": {
   "display_name": "Python 3 (ipykernel)",
   "language": "python",
   "name": "python3"
  },
  "language_info": {
   "codemirror_mode": {
    "name": "ipython",
    "version": 3
   },
   "file_extension": ".py",
   "mimetype": "text/x-python",
   "name": "python",
   "nbconvert_exporter": "python",
   "pygments_lexer": "ipython3",
   "version": "3.9.7"
  }
 },
 "nbformat": 4,
 "nbformat_minor": 5
}
