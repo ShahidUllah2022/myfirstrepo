{
 "cells": [
  {
   "cell_type": "code",
   "execution_count": 1,
   "id": "fc99295b",
   "metadata": {},
   "outputs": [
    {
     "name": "stdout",
     "output_type": "stream",
     "text": [
      "apple\n",
      "banana\n",
      "cherry\n"
     ]
    }
   ],
   "source": [
    "fruits = [\"apple\", \"banana\", \"cherry\"]\n",
    "for x in fruits:\n",
    "  print(x)"
   ]
  },
  {
   "cell_type": "code",
   "execution_count": 2,
   "id": "dcc96ff1",
   "metadata": {},
   "outputs": [
    {
     "name": "stdout",
     "output_type": "stream",
     "text": [
      "a\n",
      "b\n",
      "c\n"
     ]
    }
   ],
   "source": [
    "name = ['a','b','c']\n",
    "for a in name:\n",
    "    print(a)"
   ]
  },
  {
   "cell_type": "code",
   "execution_count": 13,
   "id": "33373c2f",
   "metadata": {},
   "outputs": [
    {
     "name": "stdout",
     "output_type": "stream",
     "text": [
      "Hello!, Sam\n",
      "Hello!, Lisa\n",
      "Hello!, Micha\n",
      "Hello!, Dave\n",
      "Hello!, Wyatt\n",
      "Hello!, Emma\n",
      "Hello!, Sage\n"
     ]
    }
   ],
   "source": [
    "lst=[\"Sam\", \"Lisa\", \"Micha\", \"Dave\", \"Wyatt\", \"Emma\", \"Sage\"]\n",
    "#Type your code here.\n",
    "for i in lst:\n",
    "    print(\"Hello!, \" + i)\n",
    "    \n",
    "\n",
    "\n",
    "\n",
    "\n",
    "\n"
   ]
  },
  {
   "cell_type": "code",
   "execution_count": 15,
   "id": "f918f3a6",
   "metadata": {},
   "outputs": [
    {
     "name": "stdout",
     "output_type": "stream",
     "text": [
      "A\n",
      "n\n",
      "t\n",
      "a\n",
      "r\n",
      "c\n",
      "t\n",
      "i\n",
      "c\n",
      "a\n"
     ]
    }
   ],
   "source": [
    "str=\"Antarctica\"\n",
    "#Type your code here.\n",
    "for i in str:\n",
    "    print(i)"
   ]
  },
  {
   "cell_type": "code",
   "execution_count": 16,
   "id": "3ba8f070",
   "metadata": {},
   "outputs": [
    {
     "name": "stdout",
     "output_type": "stream",
     "text": [
      "[100, 1300, 50, 2200]\n"
     ]
    }
   ],
   "source": [
    "dict={\"z1\":900, \"t1\": 1100, \"p1\": 2300, \"r1\": 1050, \"k1\": 3200, \"g1\": 400}\n",
    "lst=[]\n",
    "#Type your answer here.\n",
    "for i in dict:\n",
    "    if dict[i] > 1000:\n",
    "        lst.append(dict[i]-1000)\n",
    "\n",
    "\n",
    "print(lst)\n"
   ]
  },
  {
   "cell_type": "code",
   "execution_count": 26,
   "id": "805a1ab0",
   "metadata": {},
   "outputs": [],
   "source": [
    "lst= [11,22,33,44,456,33,55,33,66,77,33,88,44,13]"
   ]
  },
  {
   "cell_type": "code",
   "execution_count": 27,
   "id": "ea28e427",
   "metadata": {},
   "outputs": [
    {
     "data": {
      "text/plain": [
       "[13, 44, 88, 33, 77, 66, 33, 55, 33, 456, 44, 33, 22, 11]"
      ]
     },
     "execution_count": 27,
     "metadata": {},
     "output_type": "execute_result"
    }
   ],
   "source": [
    "lst[::-1]"
   ]
  },
  {
   "cell_type": "code",
   "execution_count": 34,
   "id": "113ea2c6",
   "metadata": {},
   "outputs": [
    {
     "name": "stdout",
     "output_type": "stream",
     "text": [
      "NATSIKAP"
     ]
    }
   ],
   "source": [
    "name = \"PAKISTAN\"\n",
    "\n",
    "for char in name[::-1]:\n",
    "    print(char,end='')"
   ]
  },
  {
   "cell_type": "code",
   "execution_count": 35,
   "id": "a9da2d02",
   "metadata": {},
   "outputs": [],
   "source": [
    "lst1=['Nasir','Asad','Umer','Saad']\n",
    "lst2=['Hussain','Rafiq','Khan','Rehman']"
   ]
  },
  {
   "cell_type": "code",
   "execution_count": 40,
   "id": "899efbbd",
   "metadata": {},
   "outputs": [
    {
     "name": "stdout",
     "output_type": "stream",
     "text": [
      "Nasir Hussain\n",
      "Asad Hussain\n",
      "Umer Hussain\n",
      "Saad Hussain\n"
     ]
    }
   ],
   "source": [
    "for name in lst1:\n",
    "    for sirname in lst2 [::4]:\n",
    "        print(f'{name} {sirname}')\n",
    "        "
   ]
  },
  {
   "cell_type": "code",
   "execution_count": 54,
   "id": "2bc6409c",
   "metadata": {},
   "outputs": [
    {
     "name": "stdout",
     "output_type": "stream",
     "text": [
      "Nasir Hussain\n",
      "Asad Rafiq\n",
      "Umer Khan\n",
      "Saad Rehman\n"
     ]
    }
   ],
   "source": [
    "for name in lst1:\n",
    "    index= (lst1.index(name)) # to gain index of list\n",
    "   # print(index) to print index\n",
    "    print(f\"{name} {lst2[lst1.index(name)]}\")\n",
    "    #print(f'{a}{lst2[lst1.index(a)] }\")"
   ]
  },
  {
   "cell_type": "code",
   "execution_count": null,
   "id": "2f496ccb",
   "metadata": {},
   "outputs": [],
   "source": []
  },
  {
   "cell_type": "code",
   "execution_count": null,
   "id": "5294c0ee",
   "metadata": {},
   "outputs": [],
   "source": []
  },
  {
   "cell_type": "code",
   "execution_count": null,
   "id": "007d18d8",
   "metadata": {},
   "outputs": [],
   "source": []
  },
  {
   "cell_type": "code",
   "execution_count": null,
   "id": "9de8745c",
   "metadata": {},
   "outputs": [],
   "source": []
  },
  {
   "cell_type": "code",
   "execution_count": null,
   "id": "f7df3f79",
   "metadata": {},
   "outputs": [],
   "source": []
  },
  {
   "cell_type": "code",
   "execution_count": null,
   "id": "d198fb7e",
   "metadata": {},
   "outputs": [],
   "source": []
  },
  {
   "cell_type": "code",
   "execution_count": null,
   "id": "98051a96",
   "metadata": {},
   "outputs": [],
   "source": []
  },
  {
   "cell_type": "code",
   "execution_count": 55,
   "id": "9e3527b9",
   "metadata": {},
   "outputs": [
    {
     "name": "stdout",
     "output_type": "stream",
     "text": [
      "red apple\n",
      "big banana\n",
      "tasty cherry\n"
     ]
    }
   ],
   "source": [
    "adj = [\"red\", \"big\", \"tasty\"]\n",
    "fruits = [\"apple\", \"banana\", \"cherry\"]\n",
    "for a in adj:\n",
    "    print(f\"{a} {fruits[adj.index(a)]}\")"
   ]
  },
  {
   "cell_type": "markdown",
   "id": "333c5ccb",
   "metadata": {},
   "source": [
    "# Dictionary"
   ]
  },
  {
   "cell_type": "code",
   "execution_count": 58,
   "id": "f0f6b57d",
   "metadata": {},
   "outputs": [
    {
     "data": {
      "text/plain": [
       "dict"
      ]
     },
     "execution_count": 58,
     "metadata": {},
     "output_type": "execute_result"
    }
   ],
   "source": [
    "dictionary = {}  # for dict used only {} bracket for list []\n",
    "type(dictionary)"
   ]
  },
  {
   "cell_type": "code",
   "execution_count": 59,
   "id": "2dd366b3",
   "metadata": {},
   "outputs": [],
   "source": [
    "dictionary= {'name':\"Saylani\", \"campus\":\"Gulshan\",\"course\":\"DSAI\"}"
   ]
  },
  {
   "cell_type": "code",
   "execution_count": 67,
   "id": "082a6e4e",
   "metadata": {},
   "outputs": [
    {
     "ename": "KeyError",
     "evalue": "('name', 'campus', 'course')",
     "output_type": "error",
     "traceback": [
      "\u001b[1;31m---------------------------------------------------------------------------\u001b[0m",
      "\u001b[1;31mKeyError\u001b[0m                                  Traceback (most recent call last)",
      "\u001b[1;32mC:\\Users\\LAB02R~1\\AppData\\Local\\Temp/ipykernel_12608/2919495991.py\u001b[0m in \u001b[0;36m<module>\u001b[1;34m\u001b[0m\n\u001b[1;32m----> 1\u001b[1;33m \u001b[0mdictionary\u001b[0m\u001b[1;33m[\u001b[0m\u001b[1;34m'name'\u001b[0m\u001b[1;33m,\u001b[0m\u001b[1;34m'campus'\u001b[0m\u001b[1;33m,\u001b[0m\u001b[1;34m'course'\u001b[0m\u001b[1;33m]\u001b[0m\u001b[1;33m\u001b[0m\u001b[1;33m\u001b[0m\u001b[0m\n\u001b[0m",
      "\u001b[1;31mKeyError\u001b[0m: ('name', 'campus', 'course')"
     ]
    }
   ],
   "source": [
    "dictionary['name','campus','course']"
   ]
  },
  {
   "cell_type": "code",
   "execution_count": 65,
   "id": "1c1b4be6",
   "metadata": {},
   "outputs": [],
   "source": [
    "dictionary['teacher']='Sir Nasir'"
   ]
  },
  {
   "cell_type": "code",
   "execution_count": 66,
   "id": "6b3667dc",
   "metadata": {},
   "outputs": [
    {
     "data": {
      "text/plain": [
       "{'name': 'Saylani',\n",
       " 'campus': 'Gulshan',\n",
       " 'course': 'DSAI',\n",
       " 'teacher': 'Sir Nasir'}"
      ]
     },
     "execution_count": 66,
     "metadata": {},
     "output_type": "execute_result"
    }
   ],
   "source": [
    "dictionary"
   ]
  },
  {
   "cell_type": "code",
   "execution_count": 68,
   "id": "4c32b72c",
   "metadata": {},
   "outputs": [],
   "source": [
    "dictionary['teacher']=\"Abdullah\""
   ]
  },
  {
   "cell_type": "code",
   "execution_count": 69,
   "id": "d255eb0e",
   "metadata": {},
   "outputs": [
    {
     "data": {
      "text/plain": [
       "{'name': 'Saylani',\n",
       " 'campus': 'Gulshan',\n",
       " 'course': 'DSAI',\n",
       " 'teacher': 'Abdullah'}"
      ]
     },
     "execution_count": 69,
     "metadata": {},
     "output_type": "execute_result"
    }
   ],
   "source": [
    "dictionary"
   ]
  },
  {
   "cell_type": "code",
   "execution_count": 70,
   "id": "8e1d30da",
   "metadata": {},
   "outputs": [],
   "source": [
    "del dictionary['teacher']"
   ]
  },
  {
   "cell_type": "code",
   "execution_count": 71,
   "id": "4dbba0ea",
   "metadata": {},
   "outputs": [
    {
     "data": {
      "text/plain": [
       "{'name': 'Saylani', 'campus': 'Gulshan', 'course': 'DSAI'}"
      ]
     },
     "execution_count": 71,
     "metadata": {},
     "output_type": "execute_result"
    }
   ],
   "source": [
    "dictionary"
   ]
  },
  {
   "cell_type": "code",
   "execution_count": 72,
   "id": "8feec276",
   "metadata": {},
   "outputs": [],
   "source": [
    "dictionary['Teacher']=\"Sir Nasir\""
   ]
  },
  {
   "cell_type": "code",
   "execution_count": 74,
   "id": "d1e1f6a5",
   "metadata": {},
   "outputs": [
    {
     "data": {
      "text/plain": [
       "{'name': 'Saylani',\n",
       " 'campus': 'Gulshan',\n",
       " 'course': 'DSAI',\n",
       " 'Teacher': 'Sir Nasir'}"
      ]
     },
     "execution_count": 74,
     "metadata": {},
     "output_type": "execute_result"
    }
   ],
   "source": [
    "dictionary\n",
    "\n"
   ]
  },
  {
   "cell_type": "code",
   "execution_count": 75,
   "id": "a9aef766",
   "metadata": {},
   "outputs": [],
   "source": [
    "student={'name':\"Shahid\"}"
   ]
  },
  {
   "cell_type": "code",
   "execution_count": 85,
   "id": "428d2a27",
   "metadata": {},
   "outputs": [
    {
     "data": {
      "text/plain": [
       "{'name': 'Saylani',\n",
       " 'campus': 'Gulshan',\n",
       " 'course': 'DSAI',\n",
       " 'Teacher': 'Sir Nasir'}"
      ]
     },
     "execution_count": 85,
     "metadata": {},
     "output_type": "execute_result"
    }
   ],
   "source": [
    "dictionary"
   ]
  },
  {
   "cell_type": "code",
   "execution_count": 89,
   "id": "3f88b470",
   "metadata": {},
   "outputs": [
    {
     "name": "stdout",
     "output_type": "stream",
     "text": [
      "Accessing a element using get:\n"
     ]
    },
    {
     "ename": "NameError",
     "evalue": "name 'DSA' is not defined",
     "output_type": "error",
     "traceback": [
      "\u001b[1;31m---------------------------------------------------------------------------\u001b[0m",
      "\u001b[1;31mNameError\u001b[0m                                 Traceback (most recent call last)",
      "\u001b[1;32mC:\\Users\\LAB02R~1\\AppData\\Local\\Temp/ipykernel_12608/3391316603.py\u001b[0m in \u001b[0;36m<module>\u001b[1;34m\u001b[0m\n\u001b[0;32m      1\u001b[0m \u001b[0mprint\u001b[0m\u001b[1;33m(\u001b[0m\u001b[1;34m\"Accessing a element using get:\"\u001b[0m\u001b[1;33m)\u001b[0m\u001b[1;33m\u001b[0m\u001b[1;33m\u001b[0m\u001b[0m\n\u001b[1;32m----> 2\u001b[1;33m \u001b[0mprint\u001b[0m\u001b[1;33m(\u001b[0m\u001b[0mdictionary\u001b[0m\u001b[1;33m.\u001b[0m\u001b[0mget\u001b[0m\u001b[1;33m(\u001b[0m\u001b[0mDSA\u001b[0m\u001b[1;33m)\u001b[0m\u001b[1;33m)\u001b[0m\u001b[1;33m\u001b[0m\u001b[1;33m\u001b[0m\u001b[0m\n\u001b[0m",
      "\u001b[1;31mNameError\u001b[0m: name 'DSA' is not defined"
     ]
    }
   ],
   "source": [
    "print(\"Accessing a element using get:\")\n",
    "print(dictionary.get(DSA))"
   ]
  },
  {
   "cell_type": "code",
   "execution_count": 77,
   "id": "b596b9dd",
   "metadata": {},
   "outputs": [],
   "source": [
    "score={'babar':45,'Rizwan':78,\"Waqar\":66}"
   ]
  },
  {
   "cell_type": "code",
   "execution_count": 78,
   "id": "9d200fb0",
   "metadata": {},
   "outputs": [
    {
     "name": "stdout",
     "output_type": "stream",
     "text": [
      "{'babar': 45, 'Rizwan': 78, 'Waqar': 66}\n"
     ]
    }
   ],
   "source": [
    "print(score)"
   ]
  },
  {
   "cell_type": "code",
   "execution_count": 79,
   "id": "e2f8f5b8",
   "metadata": {},
   "outputs": [
    {
     "data": {
      "text/plain": [
       "{'babar': 45, 'Rizwan': 78, 'Waqar': 66}"
      ]
     },
     "execution_count": 79,
     "metadata": {},
     "output_type": "execute_result"
    }
   ],
   "source": [
    "score\n"
   ]
  },
  {
   "cell_type": "code",
   "execution_count": 80,
   "id": "13eaa687",
   "metadata": {},
   "outputs": [],
   "source": [
    "rollno= {1:\"ali\",2:\"Shahid\"}"
   ]
  },
  {
   "cell_type": "code",
   "execution_count": 81,
   "id": "7c6a63b8",
   "metadata": {},
   "outputs": [
    {
     "data": {
      "text/plain": [
       "{1: 'ali', 2: 'Shahid'}"
      ]
     },
     "execution_count": 81,
     "metadata": {},
     "output_type": "execute_result"
    }
   ],
   "source": [
    "rollno"
   ]
  },
  {
   "cell_type": "code",
   "execution_count": 92,
   "id": "cc190cf6",
   "metadata": {},
   "outputs": [
    {
     "name": "stdout",
     "output_type": "stream",
     "text": [
      "Accessing a element using get:\n",
      "ali\n"
     ]
    }
   ],
   "source": [
    "print(\"Accessing a element using get:\")\n",
    "print(rollno.get(1))"
   ]
  },
  {
   "cell_type": "code",
   "execution_count": 96,
   "id": "6e65cfcb",
   "metadata": {},
   "outputs": [
    {
     "ename": "NameError",
     "evalue": "name 'value' is not defined",
     "output_type": "error",
     "traceback": [
      "\u001b[1;31m---------------------------------------------------------------------------\u001b[0m",
      "\u001b[1;31mNameError\u001b[0m                                 Traceback (most recent call last)",
      "\u001b[1;32mC:\\Users\\LAB02R~1\\AppData\\Local\\Temp/ipykernel_12608/125115169.py\u001b[0m in \u001b[0;36m<module>\u001b[1;34m\u001b[0m\n\u001b[0;32m      1\u001b[0m \u001b[1;32mfor\u001b[0m \u001b[0mkey\u001b[0m\u001b[1;33m,\u001b[0m\u001b[0mval\u001b[0m \u001b[1;32min\u001b[0m \u001b[0mdictionary\u001b[0m\u001b[1;33m.\u001b[0m\u001b[0mitems\u001b[0m\u001b[1;33m(\u001b[0m\u001b[1;33m)\u001b[0m\u001b[1;33m:\u001b[0m\u001b[1;33m\u001b[0m\u001b[1;33m\u001b[0m\u001b[0m\n\u001b[1;32m----> 2\u001b[1;33m     \u001b[0mprint\u001b[0m\u001b[1;33m(\u001b[0m\u001b[1;34mf\"key:{key} value:{value}\"\u001b[0m\u001b[1;33m)\u001b[0m\u001b[1;33m\u001b[0m\u001b[1;33m\u001b[0m\u001b[0m\n\u001b[0m\u001b[0;32m      3\u001b[0m \u001b[1;33m\u001b[0m\u001b[0m\n",
      "\u001b[1;31mNameError\u001b[0m: name 'value' is not defined"
     ]
    }
   ],
   "source": [
    "for key,val in dictionary.items():\n",
    "    print(f\"key:{key} value:{value}\")\n",
    "    "
   ]
  },
  {
   "cell_type": "code",
   "execution_count": null,
   "id": "33a32f4b",
   "metadata": {},
   "outputs": [],
   "source": []
  },
  {
   "cell_type": "code",
   "execution_count": null,
   "id": "fbe6f607",
   "metadata": {},
   "outputs": [],
   "source": []
  }
 ],
 "metadata": {
  "kernelspec": {
   "display_name": "Python 3 (ipykernel)",
   "language": "python",
   "name": "python3"
  },
  "language_info": {
   "codemirror_mode": {
    "name": "ipython",
    "version": 3
   },
   "file_extension": ".py",
   "mimetype": "text/x-python",
   "name": "python",
   "nbconvert_exporter": "python",
   "pygments_lexer": "ipython3",
   "version": "3.9.7"
  }
 },
 "nbformat": 4,
 "nbformat_minor": 5
}
